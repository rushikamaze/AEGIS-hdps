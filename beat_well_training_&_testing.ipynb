{
  "nbformat": 4,
  "nbformat_minor": 0,
  "metadata": {
    "colab": {
      "provenance": []
    },
    "kernelspec": {
      "name": "python3",
      "display_name": "Python 3"
    },
    "language_info": {
      "name": "python"
    }
  },
  "cells": [
    {
      "cell_type": "code",
      "execution_count": 54,
      "metadata": {
        "id": "pduFDtD1uSn4"
      },
      "outputs": [],
      "source": [
        "# Data manipulation and visualization\n",
        "import pandas as pd\n",
        "import numpy as np\n",
        "import matplotlib.pyplot as plt\n",
        "import seaborn as sns\n",
        "\n",
        "# Machine learning model and metrics\n",
        "from sklearn.model_selection import train_test_split\n",
        "from sklearn.preprocessing import StandardScaler\n",
        "from xgboost import XGBClassifier\n",
        "from sklearn.metrics import accuracy_score, precision_score, recall_score, f1_score, confusion_matrix, classification_report\n"
      ]
    },
    {
      "cell_type": "code",
      "source": [
        "\n",
        "# Load the BEAT WELL dataset\n",
        "file_path = \"BEAT_WELL_BALANCED.csv\"  # Update path if needed\n",
        "df = pd.read_csv(file_path)\n",
        "\n",
        "# Display dataset info and sample rows\n",
        "print(\"Dataset Info:\")\n",
        "print(df.info())\n",
        "print(\"\\nSample Data:\")\n",
        "print(df.head())\n"
      ],
      "metadata": {
        "colab": {
          "base_uri": "https://localhost:8080/"
        },
        "id": "Sq_IPy7Uuvul",
        "outputId": "9a136444-8357-4144-f69b-b6775e4f9160"
      },
      "execution_count": 63,
      "outputs": [
        {
          "output_type": "stream",
          "name": "stdout",
          "text": [
            "Dataset Info:\n",
            "<class 'pandas.core.frame.DataFrame'>\n",
            "RangeIndex: 1650 entries, 0 to 1649\n",
            "Data columns (total 15 columns):\n",
            " #   Column               Non-Null Count  Dtype  \n",
            "---  ------               --------------  -----  \n",
            " 0   age                  1650 non-null   int64  \n",
            " 1   gender               1650 non-null   int64  \n",
            " 2   height_cm            1650 non-null   int64  \n",
            " 3   weight_kg            1650 non-null   int64  \n",
            " 4   bmi                  1650 non-null   float64\n",
            " 5   systolic_bp          1650 non-null   int64  \n",
            " 6   diastolic_bp         1650 non-null   int64  \n",
            " 7   bp_category          1650 non-null   int64  \n",
            " 8   smoking_status       1650 non-null   int64  \n",
            " 9   alcohol_consumption  1650 non-null   int64  \n",
            " 10  physical_activity    1650 non-null   int64  \n",
            " 11  cholesterol_level    1650 non-null   int64  \n",
            " 12  blood_sugar          1650 non-null   int64  \n",
            " 13  family_history       1650 non-null   int64  \n",
            " 14  risk_score           1650 non-null   int64  \n",
            "dtypes: float64(1), int64(14)\n",
            "memory usage: 193.5 KB\n",
            "None\n",
            "\n",
            "Sample Data:\n",
            "   age  gender  height_cm  weight_kg        bmi  systolic_bp  diastolic_bp  \\\n",
            "0   29       1        157         51  25.865384          118           108   \n",
            "1   27       1        177         72  25.909898          118            71   \n",
            "2   32       1        156         86  30.938774          145            74   \n",
            "3   65       0        150         95  26.336691          170            73   \n",
            "4   32       1        171        106  34.035293          108            69   \n",
            "\n",
            "   bp_category  smoking_status  alcohol_consumption  physical_activity  \\\n",
            "0            3               0                    4                  3   \n",
            "1            0               1                    4                  2   \n",
            "2            3               1                    2                  8   \n",
            "3            3               1                    5                  4   \n",
            "4            0               0                    6                  5   \n",
            "\n",
            "   cholesterol_level  blood_sugar  family_history  risk_score  \n",
            "0                211          155               1           1  \n",
            "1                158          140               0           1  \n",
            "2                219           70               1           2  \n",
            "3                193          195               0           2  \n",
            "4                272          113               0           2  \n"
          ]
        }
      ]
    },
    {
      "cell_type": "code",
      "source": [
        "# Define features and target\n",
        "X = df.drop(\"risk_score\", axis=1)  # Features\n",
        "y = df[\"risk_score\"]  # Target column\n",
        "\n",
        "# Split into training and testing sets (80% training, 20% testing)\n",
        "X_train, X_test, y_train, y_test = train_test_split(X, y, test_size=0.2, random_state=42, stratify=y)\n",
        "\n",
        "# Scale the features for better performance\n",
        "scaler = StandardScaler()\n",
        "X_train_scaled = scaler.fit_transform(X_train)\n",
        "X_test_scaled = scaler.transform(X_test)\n",
        "\n",
        "print(\"Training and Testing Set Shapes:\")\n",
        "print(f\"X_train: {X_train_scaled.shape}, X_test: {X_test_scaled.shape}\")\n"
      ],
      "metadata": {
        "colab": {
          "base_uri": "https://localhost:8080/"
        },
        "id": "PlNEl9mAu6wj",
        "outputId": "14843465-a0e6-4b38-8614-9193e2534337"
      },
      "execution_count": 64,
      "outputs": [
        {
          "output_type": "stream",
          "name": "stdout",
          "text": [
            "Training and Testing Set Shapes:\n",
            "X_train: (1320, 14), X_test: (330, 14)\n"
          ]
        }
      ]
    },
    {
      "cell_type": "code",
      "source": [
        "# Initialize the XGBoost Classifier\n",
        "xgb_model = XGBClassifier(\n",
        "    n_estimators=200,         # Number of boosting rounds\n",
        "    learning_rate=0.05,       # Step size shrinkage\n",
        "    max_depth=6,              # Maximum tree depth\n",
        "    min_child_weight=1,       # Minimum sum of instance weight\n",
        "    subsample=0.8,            # Fraction of samples used per tree\n",
        "    colsample_bytree=0.8,     # Fraction of features used per tree\n",
        "    random_state=42,\n",
        ")\n",
        "\n",
        "# Train the model\n",
        "xgb_model.fit(X_train_scaled, y_train)\n",
        "\n",
        "# Make predictions\n",
        "y_pred = xgb_model.predict(X_test_scaled)\n"
      ],
      "metadata": {
        "id": "-Pw7P3sFu-DF"
      },
      "execution_count": 65,
      "outputs": []
    },
    {
      "cell_type": "code",
      "source": [
        "# Accuracy\n",
        "accuracy = accuracy_score(y_test, y_pred)\n",
        "precision = precision_score(y_test, y_pred, average='weighted')\n",
        "recall = recall_score(y_test, y_pred, average='weighted')\n",
        "f1 = f1_score(y_test, y_pred, average='weighted')\n",
        "\n",
        "print(\"\\n✅ Model Evaluation Metrics:\")\n",
        "print(f\"Accuracy: {accuracy:.4f}\")\n",
        "print(f\"Precision: {precision:.4f}\")\n",
        "print(f\"Recall: {recall:.4f}\")\n",
        "print(f\"F1 Score: {f1:.4f}\")\n",
        "\n",
        "# Confusion Matrix\n",
        "conf_matrix = confusion_matrix(y_test, y_pred)\n",
        "print(\"\\nConfusion Matrix:\")\n",
        "print(conf_matrix)\n",
        "\n",
        "# Classification Report\n",
        "print(\"\\nClassification Report:\")\n",
        "print(classification_report(y_test, y_pred))\n"
      ],
      "metadata": {
        "colab": {
          "base_uri": "https://localhost:8080/"
        },
        "id": "pbgfRSxJvLSW",
        "outputId": "59f555aa-56b1-4520-ae6e-3d111fce3b53"
      },
      "execution_count": 67,
      "outputs": [
        {
          "output_type": "stream",
          "name": "stdout",
          "text": [
            "\n",
            "✅ Model Evaluation Metrics:\n",
            "Accuracy: 0.9909\n",
            "Precision: 0.9912\n",
            "Recall: 0.9909\n",
            "F1 Score: 0.9909\n",
            "\n",
            "Confusion Matrix:\n",
            "[[110   0   0]\n",
            " [  0 110   0]\n",
            " [  0   3 107]]\n",
            "\n",
            "Classification Report:\n",
            "              precision    recall  f1-score   support\n",
            "\n",
            "           0       1.00      1.00      1.00       110\n",
            "           1       0.97      1.00      0.99       110\n",
            "           2       1.00      0.97      0.99       110\n",
            "\n",
            "    accuracy                           0.99       330\n",
            "   macro avg       0.99      0.99      0.99       330\n",
            "weighted avg       0.99      0.99      0.99       330\n",
            "\n"
          ]
        }
      ]
    },
    {
      "cell_type": "code",
      "source": [
        "# Plotting accuracy\n",
        "fig, ax = plt.subplots(figsize=(8, 5))\n",
        "\n",
        "# Plot accuracy\n",
        "ax.bar([\"Accuracy\", \"Precision\", \"Recall\", \"F1 Score\"],\n",
        "       [accuracy, precision, recall, f1],\n",
        "       color=['#4CAF50', '#2196F3', '#FF9800', '#F44336'])\n",
        "\n",
        "# Display accuracy in percentage\n",
        "for i, v in enumerate([accuracy, precision, recall, f1]):\n",
        "    ax.text(i, v + 0.01, f\"{v*100:.2f}%\", ha='center', va='bottom', fontsize=12)\n",
        "\n",
        "plt.title(\"XGBoost Model Evaluation Metrics\", fontsize=16)\n",
        "plt.ylabel(\"Score\")\n",
        "plt.show()\n"
      ],
      "metadata": {
        "colab": {
          "base_uri": "https://localhost:8080/",
          "height": 456
        },
        "id": "Y1a1BHITvQUf",
        "outputId": "7bc10244-c464-4855-c719-b49369faff58"
      },
      "execution_count": 68,
      "outputs": [
        {
          "output_type": "display_data",
          "data": {
            "text/plain": [
              "<Figure size 800x500 with 1 Axes>"
            ],
            "image/png": "[encoded data removed]"
          },
          "metadata": {}
        }
      ]
    },
    {
      "cell_type": "markdown",
      "source": [
        "BALANCING\n"
      ],
      "metadata": {
        "id": "cT9EdNmO8Tw0"
      }
    },
    {
      "cell_type": "code",
      "source": [
        "import pandas as pd\n",
        "\n",
        "# Load your dataset\n",
        "df = pd.read_csv('/BEAT WELL DATASET.csv')\n",
        "\n",
        "# Display class distribution\n",
        "print(df['risk_score'].value_counts())  # Change 'risk_score' if your target column has a different name\n"
      ],
      "metadata": {
        "colab": {
          "base_uri": "https://localhost:8080/"
        },
        "id": "LIYo3WxP5vgJ",
        "outputId": "00905300-41f3-4672-9e07-af5dc279e588"
      },
      "execution_count": 69,
      "outputs": [
        {
          "output_type": "stream",
          "name": "stdout",
          "text": [
            "risk_score\n",
            "2    687\n",
            "1    310\n",
            "0      3\n",
            "Name: count, dtype: int64\n"
          ]
        }
      ]
    },
    {
      "cell_type": "code",
      "source": [
        "print(df.isnull().sum())\n"
      ],
      "metadata": {
        "colab": {
          "base_uri": "https://localhost:8080/"
        },
        "id": "ob9UevpQ52Ze",
        "outputId": "c93dc6af-a0ae-42a4-a932-6415226943b9"
      },
      "execution_count": 70,
      "outputs": [
        {
          "output_type": "stream",
          "name": "stdout",
          "text": [
            "age                    0\n",
            "gender                 0\n",
            "height_cm              0\n",
            "weight_kg              0\n",
            "bmi                    0\n",
            "systolic_bp            0\n",
            "diastolic_bp           0\n",
            "bp_category            0\n",
            "smoking_status         0\n",
            "alcohol_consumption    0\n",
            "physical_activity      0\n",
            "cholesterol_level      0\n",
            "blood_sugar            0\n",
            "family_history         0\n",
            "risk_score             0\n",
            "dtype: int64\n"
          ]
        }
      ]
    },
    {
      "cell_type": "code",
      "source": [
        "import pandas as pd\n",
        "\n",
        "df = pd.read_csv('/BEAT WELL DATASET.csv')\n",
        "print(df['risk_score'].value_counts())  # replace with your actual target column if needed\n"
      ],
      "metadata": {
        "colab": {
          "base_uri": "https://localhost:8080/"
        },
        "id": "bUfsIqmC6ZBG",
        "outputId": "0ea205c4-d94b-4527-a982-d556bc3a0690"
      },
      "execution_count": 48,
      "outputs": [
        {
          "output_type": "stream",
          "name": "stdout",
          "text": [
            "risk_score\n",
            "2    687\n",
            "1    310\n",
            "0      3\n",
            "Name: count, dtype: int64\n"
          ]
        }
      ]
    },
    {
      "cell_type": "code",
      "source": [
        "# Separate features and target\n",
        "X = df.drop('risk_score', axis=1)  # Replace with your target column name if different\n",
        "y = df['risk_score']\n",
        "\n",
        "# One-hot encode categorical features (like gender, alcohol_consumption, etc.)\n",
        "X_encoded = pd.get_dummies(X)\n"
      ],
      "metadata": {
        "id": "6-6jvENX6hbp"
      },
      "execution_count": 49,
      "outputs": []
    },
    {
      "cell_type": "code",
      "source": [
        "print(X_encoded.isnull().sum())\n"
      ],
      "metadata": {
        "colab": {
          "base_uri": "https://localhost:8080/"
        },
        "id": "ObvQW0rf6iud",
        "outputId": "a7121b9c-591d-4ca6-8346-4738e65508a3"
      },
      "execution_count": 50,
      "outputs": [
        {
          "output_type": "stream",
          "name": "stdout",
          "text": [
            "age                    0\n",
            "gender                 0\n",
            "height_cm              0\n",
            "weight_kg              0\n",
            "bmi                    0\n",
            "systolic_bp            0\n",
            "diastolic_bp           0\n",
            "bp_category            0\n",
            "smoking_status         0\n",
            "alcohol_consumption    0\n",
            "physical_activity      0\n",
            "cholesterol_level      0\n",
            "blood_sugar            0\n",
            "family_history         0\n",
            "dtype: int64\n"
          ]
        }
      ]
    },
    {
      "cell_type": "code",
      "source": [
        "from imblearn.over_sampling import RandomOverSampler\n",
        "\n",
        "ros = RandomOverSampler(random_state=42)\n",
        "X_train_bal, y_train_bal = ros.fit_resample(X_train, y_train)\n",
        "\n",
        "print(y_train_bal.value_counts())  # Confirm balancing\n"
      ],
      "metadata": {
        "colab": {
          "base_uri": "https://localhost:8080/"
        },
        "id": "Va3fnIGh6y7-",
        "outputId": "b20ab8d1-1010-4654-c8f0-7048d1594143"
      },
      "execution_count": 53,
      "outputs": [
        {
          "output_type": "stream",
          "name": "stdout",
          "text": [
            "risk_score\n",
            "1    550\n",
            "2    550\n",
            "0    550\n",
            "Name: count, dtype: int64\n"
          ]
        }
      ]
    },
    {
      "cell_type": "code",
      "source": [
        "from imblearn.over_sampling import RandomOverSampler\n",
        "import pandas as pd\n",
        "\n",
        "ros = RandomOverSampler(random_state=42)\n",
        "X_train_bal, y_train_bal = ros.fit_resample(X_train, y_train)\n",
        "\n",
        "print(y_train_bal.value_counts())  # Confirm balancing\n",
        "\n",
        "# Create a new DataFrame with the balanced data\n",
        "df_balanced = pd.DataFrame(X_train_bal, columns=X_train.columns)  # Use original column names\n",
        "df_balanced['risk_score'] = y_train_bal  # Add the target variable back\n",
        "\n",
        "# Now you can save it\n",
        "df_balanced.to_csv(\"BEAT_WELL_BALANCED.csv\", index=False)"
      ],
      "metadata": {
        "colab": {
          "base_uri": "https://localhost:8080/"
        },
        "id": "4giPsILP780E",
        "outputId": "51bfdf0b-07c1-4e32-c766-6b2874fe2e02"
      },
      "execution_count": 61,
      "outputs": [
        {
          "output_type": "stream",
          "name": "stdout",
          "text": [
            "risk_score\n",
            "1    550\n",
            "2    550\n",
            "0    550\n",
            "Name: count, dtype: int64\n"
          ]
        }
      ]
    },
    {
      "cell_type": "code",
      "source": [
        "# Assuming your balanced dataset is in df_balanced\n",
        "df_balanced.to_csv(\"BEAT_WELL_BALANCED.csv\", index=False)\n"
      ],
      "metadata": {
        "id": "cva1Mr3A8CDg"
      },
      "execution_count": 62,
      "outputs": []
    }
  ]
}